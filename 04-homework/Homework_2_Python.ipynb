{
 "cells": [
  {
   "attachments": {},
   "cell_type": "markdown",
   "id": "3fb8fab1-f373-43a6-bdfd-0e36cdbe43e5",
   "metadata": {},
   "source": [
    "## DSI-06 Homework 2: ANSWERS\n",
    "From Chapter 3, found on pages 129-130 of ISLP\n",
    "\n",
    "*This question involves the use of simple linear regression on the Auto data set*"
   ]
  },
  {
   "cell_type": "code",
   "execution_count": null,
   "id": "73414257-bccd-461f-813a-f1b9758ea1fc",
   "metadata": {},
   "outputs": [],
   "source": [
    "# Import standard libraries\n",
    "import numpy as np\n",
    "import pandas as pd\n",
    "import seaborn as sns\n",
    "import matplotlib.pyplot as plt\n",
    "from matplotlib.pyplot import subplots\n",
    "import statsmodels.api as sm\n",
    "import warnings # for muting warning messages\n",
    "\n",
    "# mute warning messages\n",
    "warnings.filterwarnings('ignore')\n",
    "# Import specific objects\n",
    "from statsmodels.graphics.gofplots import ProbPlot\n",
    "from statsmodels.stats.outliers_influence import OLSInfluence\n",
    "from ISLP import load_data\n",
    "from ISLP.models import (ModelSpec as MS,\n",
    "                         summarize,\n",
    "                         poly)\n",
    "\n",
    "# Load dataset\n",
    "Auto = load_data('Auto')\n",
    "Auto"
   ]
  },
  {
   "cell_type": "markdown",
   "id": "3e21f570-dc3e-4192-84d0-468c58ec35e0",
   "metadata": {},
   "source": [
    "a)\tProduce a scatterplot matrix which includes all of the numeric variables in the data set."
   ]
  },
  {
   "cell_type": "code",
   "execution_count": null,
   "id": "8a82dda2-c5ef-4c9b-8eb3-9435044f9b61",
   "metadata": {},
   "outputs": [],
   "source": [
    "#Add your code here"
   ]
  },
  {
   "cell_type": "markdown",
   "id": "fa0639bc-bc10-433b-b720-b431e0549acd",
   "metadata": {},
   "source": [
    "b)\tCompute the matrix of correlations between the variables using the `DataFrame.corr()` method, and print it."
   ]
  },
  {
   "cell_type": "code",
   "execution_count": null,
   "id": "fac805f2-b26c-453d-8536-7456d5fa5822",
   "metadata": {},
   "outputs": [],
   "source": [
    "#Add your code here"
   ]
  },
  {
   "attachments": {},
   "cell_type": "markdown",
   "id": "c317e651-94a3-481c-8f2e-d7a515f67f0f",
   "metadata": {},
   "source": [
    "c) Use the `sm.OLS()` function to perform a multiple linear regression with mpg as the response and all other variables except name as the predictors. Use the `model.summary()` function to print the results. Comment on the output: \n",
    "\n",
    "(i)  Is there a relationship between the predictors and the response?\n",
    "\n",
    "(ii) Which predictors appear to have a statistically significant relationship to the response?\n",
    "\n",
    "(iii) What does the coefficient for the year variable suggest ?"
   ]
  },
  {
   "cell_type": "code",
   "execution_count": null,
   "id": "b0a9afc3-96b9-46c6-92a2-75b8006aca32",
   "metadata": {},
   "outputs": [],
   "source": [
    "#Add your code here"
   ]
  },
  {
   "cell_type": "markdown",
   "id": "e53adb01-13a0-4868-a189-ce5c21c2e386",
   "metadata": {},
   "source": [
    "d) Produce some of diagnostic plots of the linear regression fit as described in the lab. Comment on any problems you see with the fit. Do the residual plots suggest any unusually large outliers? Does the leverage plot identify any observations with unusually high leverage?"
   ]
  },
  {
   "cell_type": "code",
   "execution_count": null,
   "id": "d8f1687b-dc49-499a-85e1-fa9efb085558",
   "metadata": {},
   "outputs": [],
   "source": [
    "#Add your code here Residuals vs Fitted Values"
   ]
  },
  {
   "cell_type": "code",
   "execution_count": null,
   "id": "04711e89-8bf9-425f-94f7-a5f19f7ec09f",
   "metadata": {},
   "outputs": [],
   "source": [
    "#Add your code here to plot QQ Plot"
   ]
  },
  {
   "attachments": {},
   "cell_type": "markdown",
   "id": "89c79ebc-f721-46a4-9d54-7328194a3c51",
   "metadata": {},
   "source": [
    "e) Fit some models with interactions as described in the lab. Do any interactions appear to be statistically significant?"
   ]
  },
  {
   "cell_type": "code",
   "execution_count": null,
   "id": "300fca6d",
   "metadata": {},
   "outputs": [],
   "source": [
    "#Add your code here"
   ]
  },
  {
   "cell_type": "markdown",
   "id": "94de512c-116d-4a7d-a02a-1be389472790",
   "metadata": {},
   "source": [
    "f) Try a few different transformations of the variables, such as log⁡(X),√X,X^2. Comment on your findings."
   ]
  },
  {
   "cell_type": "code",
   "execution_count": null,
   "id": "595981f9",
   "metadata": {},
   "outputs": [],
   "source": [
    "#Add your code here"
   ]
  },
  {
   "cell_type": "markdown",
   "id": "5bb509f9",
   "metadata": {},
   "source": [
    "Additional Practice Questions: \n",
    "- Explain the difference between MLR and OLS to a non-technical audience. \n",
    "- How would you describe this exercise in an interview to both a technical and non-technical interviewer? \n",
    "- What are the key insights you would want to show ? \n",
    "- Can you think of a business context where this exercise would have applications?"
   ]
  }
 ],
 "metadata": {
  "kernelspec": {
   "display_name": "Python 3 (ipykernel)",
   "language": "python",
   "name": "python3"
  },
  "language_info": {
   "codemirror_mode": {
    "name": "ipython",
    "version": 3
   },
   "file_extension": ".py",
   "mimetype": "text/x-python",
   "name": "python",
   "nbconvert_exporter": "python",
   "pygments_lexer": "ipython3",
   "version": "3.11.5"
  }
 },
 "nbformat": 4,
 "nbformat_minor": 5
}
