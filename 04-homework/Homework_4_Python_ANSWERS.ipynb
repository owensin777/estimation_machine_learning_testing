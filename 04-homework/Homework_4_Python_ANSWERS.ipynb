{
 "cells": [
  {
   "attachments": {},
   "cell_type": "markdown",
   "id": "c996be64-7528-4de5-9122-42153aa87bae",
   "metadata": {},
   "source": [
    "## DSI-06 Homework 4: ANSWERS\n",
    "From Chapter 5, found on pages 225-226 of ISLP\n",
    "\n",
    "*In Chapter 4, we used logistic regression to predict the probability of default using income and balance on the `Default` data set. We will now estimate the test error of this logistic regression model using the validation set approach. Do not forget to set a random seed before beginning your analysis.*"
   ]
  },
  {
   "cell_type": "code",
   "execution_count": 1,
   "id": "6d9c640b-16c4-4022-91c3-d5fa56c2d238",
   "metadata": {},
   "outputs": [
    {
     "data": {
      "text/html": [
       "<div>\n",
       "<style scoped>\n",
       "    .dataframe tbody tr th:only-of-type {\n",
       "        vertical-align: middle;\n",
       "    }\n",
       "\n",
       "    .dataframe tbody tr th {\n",
       "        vertical-align: top;\n",
       "    }\n",
       "\n",
       "    .dataframe thead th {\n",
       "        text-align: right;\n",
       "    }\n",
       "</style>\n",
       "<table border=\"1\" class=\"dataframe\">\n",
       "  <thead>\n",
       "    <tr style=\"text-align: right;\">\n",
       "      <th></th>\n",
       "      <th>default</th>\n",
       "      <th>student</th>\n",
       "      <th>balance</th>\n",
       "      <th>income</th>\n",
       "    </tr>\n",
       "  </thead>\n",
       "  <tbody>\n",
       "    <tr>\n",
       "      <th>0</th>\n",
       "      <td>No</td>\n",
       "      <td>No</td>\n",
       "      <td>729.526495</td>\n",
       "      <td>44361.625074</td>\n",
       "    </tr>\n",
       "    <tr>\n",
       "      <th>1</th>\n",
       "      <td>No</td>\n",
       "      <td>Yes</td>\n",
       "      <td>817.180407</td>\n",
       "      <td>12106.134700</td>\n",
       "    </tr>\n",
       "    <tr>\n",
       "      <th>2</th>\n",
       "      <td>No</td>\n",
       "      <td>No</td>\n",
       "      <td>1073.549164</td>\n",
       "      <td>31767.138947</td>\n",
       "    </tr>\n",
       "    <tr>\n",
       "      <th>3</th>\n",
       "      <td>No</td>\n",
       "      <td>No</td>\n",
       "      <td>529.250605</td>\n",
       "      <td>35704.493935</td>\n",
       "    </tr>\n",
       "    <tr>\n",
       "      <th>4</th>\n",
       "      <td>No</td>\n",
       "      <td>No</td>\n",
       "      <td>785.655883</td>\n",
       "      <td>38463.495879</td>\n",
       "    </tr>\n",
       "    <tr>\n",
       "      <th>...</th>\n",
       "      <td>...</td>\n",
       "      <td>...</td>\n",
       "      <td>...</td>\n",
       "      <td>...</td>\n",
       "    </tr>\n",
       "    <tr>\n",
       "      <th>9995</th>\n",
       "      <td>No</td>\n",
       "      <td>No</td>\n",
       "      <td>711.555020</td>\n",
       "      <td>52992.378914</td>\n",
       "    </tr>\n",
       "    <tr>\n",
       "      <th>9996</th>\n",
       "      <td>No</td>\n",
       "      <td>No</td>\n",
       "      <td>757.962918</td>\n",
       "      <td>19660.721768</td>\n",
       "    </tr>\n",
       "    <tr>\n",
       "      <th>9997</th>\n",
       "      <td>No</td>\n",
       "      <td>No</td>\n",
       "      <td>845.411989</td>\n",
       "      <td>58636.156984</td>\n",
       "    </tr>\n",
       "    <tr>\n",
       "      <th>9998</th>\n",
       "      <td>No</td>\n",
       "      <td>No</td>\n",
       "      <td>1569.009053</td>\n",
       "      <td>36669.112365</td>\n",
       "    </tr>\n",
       "    <tr>\n",
       "      <th>9999</th>\n",
       "      <td>No</td>\n",
       "      <td>Yes</td>\n",
       "      <td>200.922183</td>\n",
       "      <td>16862.952321</td>\n",
       "    </tr>\n",
       "  </tbody>\n",
       "</table>\n",
       "<p>10000 rows × 4 columns</p>\n",
       "</div>"
      ],
      "text/plain": [
       "     default student      balance        income\n",
       "0         No      No   729.526495  44361.625074\n",
       "1         No     Yes   817.180407  12106.134700\n",
       "2         No      No  1073.549164  31767.138947\n",
       "3         No      No   529.250605  35704.493935\n",
       "4         No      No   785.655883  38463.495879\n",
       "...      ...     ...          ...           ...\n",
       "9995      No      No   711.555020  52992.378914\n",
       "9996      No      No   757.962918  19660.721768\n",
       "9997      No      No   845.411989  58636.156984\n",
       "9998      No      No  1569.009053  36669.112365\n",
       "9999      No     Yes   200.922183  16862.952321\n",
       "\n",
       "[10000 rows x 4 columns]"
      ]
     },
     "execution_count": 1,
     "metadata": {},
     "output_type": "execute_result"
    }
   ],
   "source": [
    "# Import standard libraries\n",
    "import numpy as np\n",
    "import pandas as pd\n",
    "import seaborn as sns\n",
    "import matplotlib.pyplot as plt\n",
    "from matplotlib.pyplot import subplots\n",
    "import statsmodels.api as sm\n",
    "import random\n",
    "\n",
    "# Import specific objects\n",
    "from ISLP import load_data\n",
    "from ISLP import confusion_table\n",
    "from ISLP.models import contrast\n",
    "from ISLP.models import (ModelSpec as MS,\n",
    "                         summarize)\n",
    "from sklearn.discriminant_analysis import \\\n",
    "     (LinearDiscriminantAnalysis as LDA,\n",
    "      QuadraticDiscriminantAnalysis as QDA)\n",
    "from sklearn.naive_bayes import GaussianNB\n",
    "from sklearn.neighbors import KNeighborsClassifier\n",
    "from sklearn.preprocessing import StandardScaler\n",
    "from sklearn.linear_model import LogisticRegression\n",
    "from sklearn.model_selection import train_test_split\n",
    "from sklearn.linear_model import LogisticRegression\n",
    "from sklearn.metrics import accuracy_score, confusion_matrix\n",
    "from sklearn.preprocessing import OneHotEncoder\n",
    "from sklearn.compose import ColumnTransformer\n",
    "from sklearn.pipeline import Pipeline\n",
    "from sklearn.metrics import accuracy_score\n",
    "\n",
    "# Load Default data\n",
    "Default = load_data('Default')\n",
    "Default"
   ]
  },
  {
   "attachments": {},
   "cell_type": "markdown",
   "id": "d4984ae5-070c-4e15-b54d-8a4371675a13",
   "metadata": {},
   "source": [
    "(a) Fit a logistic regression model that uses income and balance to predict default."
   ]
  },
  {
   "cell_type": "code",
   "execution_count": 2,
   "id": "6c7a50f6-9929-467f-a0b6-a182c24e6d9a",
   "metadata": {},
   "outputs": [
    {
     "name": "stdout",
     "output_type": "stream",
     "text": [
      "Optimization terminated successfully.\n",
      "         Current function value: 0.078948\n",
      "         Iterations 10\n",
      "                           Logit Regression Results                           \n",
      "==============================================================================\n",
      "Dep. Variable:        default_numeric   No. Observations:                10000\n",
      "Model:                          Logit   Df Residuals:                     9997\n",
      "Method:                           MLE   Df Model:                            2\n",
      "Date:                Wed, 06 Mar 2024   Pseudo R-squ.:                  0.4594\n",
      "Time:                        13:33:09   Log-Likelihood:                -789.48\n",
      "converged:                       True   LL-Null:                       -1460.3\n",
      "Covariance Type:            nonrobust   LLR p-value:                4.541e-292\n",
      "==============================================================================\n",
      "                 coef    std err          z      P>|z|      [0.025      0.975]\n",
      "------------------------------------------------------------------------------\n",
      "Intercept    -11.5405      0.435    -26.544      0.000     -12.393     -10.688\n",
      "income      2.081e-05   4.99e-06      4.174      0.000     1.1e-05    3.06e-05\n",
      "balance        0.0056      0.000     24.835      0.000       0.005       0.006\n",
      "==============================================================================\n",
      "\n",
      "Possibly complete quasi-separation: A fraction 0.14 of observations can be\n",
      "perfectly predicted. This might indicate that there is complete\n",
      "quasi-separation. In this case some parameters will not be identified.\n"
     ]
    }
   ],
   "source": [
    "# Convert 'default' to numeric (1 or 0)\n",
    "Default['default_numeric'] = Default['default'].map({'Yes': 1, 'No': 0})\n",
    "\n",
    "# Set random seed (use any number you wish)\n",
    "random_seed = 16 \n",
    "np.random.seed(random_seed)\n",
    "random.seed(random_seed)\n",
    "\n",
    "# Fit logistic regression model\n",
    "formula = 'default_numeric ~ income + balance'\n",
    "glm_model = sm.Logit.from_formula(formula, data=Default)\n",
    "glm_fit = glm_model.fit()\n",
    "\n",
    "# Print summary\n",
    "print(glm_fit.summary())"
   ]
  },
  {
   "cell_type": "markdown",
   "id": "492555e2-7bd0-4366-b5ff-edc6a47852a2",
   "metadata": {},
   "source": [
    "The standard errors of the coefficients are listed in the table above as std err (Income -> 4.99e-06, Balance\n",
    "-> 0.000)"
   ]
  },
  {
   "cell_type": "markdown",
   "id": "9a66e054-7216-4c84-8fd0-92f071df208b",
   "metadata": {},
   "source": [
    "Using the validation set approach, estimate the test error of this model. In order to do this, you must perform the following steps:\n",
    "\n",
    "(i) Split the sample set into a training set and a validation set.\n",
    "\n",
    "(ii)  Fit a multiple logistic regression model using only the training observations.\n",
    "\n",
    "(iii)  Obtain a prediction of default status for each individual in the validation set by computing the posterior probability of default for that individual, and classifying the individual to the default category if the posterior probability is greater than 0.5.\n",
    "\n",
    "(vi)  Compute the validation set error, which is the fraction of the observations in the validation set that are misclassified."
   ]
  },
  {
   "cell_type": "code",
   "execution_count": 3,
   "id": "a074d995-6701-49b5-8ad3-7e9a624315bc",
   "metadata": {},
   "outputs": [
    {
     "name": "stdout",
     "output_type": "stream",
     "text": [
      "Validation Set Error: 0.0250\n"
     ]
    }
   ],
   "source": [
    "# Step (i): Split the dataset into training and validation sets\n",
    "train_df, valid_df = train_test_split(Default, test_size=0.2, random_state=16)\n",
    "\n",
    "# Step (ii): Fit a logistic regression model using only the training observations\n",
    "X_train = train_df[['income', 'balance']]\n",
    "y_train = train_df['default']\n",
    "logreg_model = LogisticRegression()\n",
    "logreg_model.fit(X_train, y_train)\n",
    "\n",
    "# Step (iii): Obtain predictions on the validation set\n",
    "X_valid = valid_df[['income', 'balance']]\n",
    "y_valid_pred_prob = logreg_model.predict_proba(X_valid)[:, 1]\n",
    "y_valid_pred = np.where(y_valid_pred_prob > 0.5, 'Yes', 'No')  # Convert to string labels\n",
    "\n",
    "# Step (iv): Compute the validation set error\n",
    "validation_error = 1 - accuracy_score(valid_df['default'], y_valid_pred)\n",
    "\n",
    "# Display the validation set error\n",
    "print(f\"Validation Set Error: {validation_error:.4f}\")"
   ]
  },
  {
   "cell_type": "markdown",
   "id": "d53bb8fc-402b-4e58-8819-1d9256da152a",
   "metadata": {},
   "source": [
    "(c)  Repeat the process in (b) three times, using three different splits of the observations into a training set and a validation set. Comment on the results obtained."
   ]
  },
  {
   "cell_type": "code",
   "execution_count": 4,
   "id": "19e883b7-f332-41c6-b61d-2655a695f327",
   "metadata": {},
   "outputs": [
    {
     "name": "stdout",
     "output_type": "stream",
     "text": [
      "Validation Set Error (Repeat 1): 0.0250\n",
      "Validation Set Error (Repeat 2): 0.0230\n",
      "Validation Set Error (Repeat 3): 0.0260\n"
     ]
    }
   ],
   "source": [
    "# Number of repetitions\n",
    "num_repeats = 3\n",
    "\n",
    "for repeat in range(num_repeats):\n",
    "    # Step (i): Split the dataset into training and validation sets\n",
    "    train_df, valid_df = train_test_split(Default, test_size=0.2, random_state=16 * (repeat + 1))\n",
    "\n",
    "    # Step (ii): Fit a logistic regression model using only the training observations\n",
    "    X_train = train_df[['income', 'balance']]\n",
    "    y_train = train_df['default']\n",
    "    logreg_model = LogisticRegression()\n",
    "    logreg_model.fit(X_train, y_train)\n",
    "\n",
    "    # Step (iii): Obtain predictions on the validation set\n",
    "    X_valid = valid_df[['income', 'balance']]\n",
    "    y_valid_pred_prob = logreg_model.predict_proba(X_valid)[:, 1]\n",
    "    y_valid_pred = np.where(y_valid_pred_prob > 0.5, 'Yes', 'No')  # Convert to string labels\n",
    "\n",
    "    # Step (iv): Compute the validation set error\n",
    "    validation_error = 1 - accuracy_score(valid_df['default'], y_valid_pred)\n",
    "\n",
    "    # Display the validation set error for each iteration\n",
    "    print(f\"Validation Set Error (Repeat {repeat + 1}): {validation_error:.4f}\")"
   ]
  },
  {
   "cell_type": "markdown",
   "id": "054c300b-65d1-4409-bb28-bc4fbcca7cb4",
   "metadata": {},
   "source": [
    "(d) Now consider a logistic regression model that predicts the probability of default using income, balance, and a dummy variable for student. Estimate the test error for this model using the validation set approach. Comment on whether or not including a dummy variable for student leads to a reduction in the test error rate."
   ]
  },
  {
   "cell_type": "code",
   "execution_count": 9,
   "id": "ecb329eb-838a-4bd9-a97a-5402a03c7c46",
   "metadata": {},
   "outputs": [
    {
     "name": "stdout",
     "output_type": "stream",
     "text": [
      "Validation Set Error (Repeat 1): 0.0255\n",
      "Validation Set Error (Repeat 2): 0.0235\n",
      "Validation Set Error (Repeat 3): 0.0270\n"
     ]
    }
   ],
   "source": [
    "# Number of repetitions\n",
    "num_repeats = 3\n",
    "\n",
    "for repeat in range(num_repeats):\n",
    "    # Step (i): Split the dataset into training and validation sets\n",
    "    train_df, valid_df = train_test_split(Default, test_size=0.2, random_state=16 * (repeat + 1))\n",
    "\n",
    "    # Step (ii): Define a pipeline for preprocessing and logistic regression\n",
    "    preprocessor = ColumnTransformer(\n",
    "        transformers=[\n",
    "            ('num', 'passthrough', ['income', 'balance']),\n",
    "            ('cat', OneHotEncoder(), ['student'])\n",
    "        ])\n",
    "\n",
    "    model = Pipeline(steps=[('preprocessor', preprocessor),\n",
    "                            ('classifier', LogisticRegression(max_iter = 1000))])\n",
    "\n",
    "    # Step (iii): Fit the logistic regression model using only the training observations\n",
    "    X_train = train_df[['income', 'balance', 'student']]\n",
    "    y_train = train_df['default']\n",
    "    model.fit(X_train, y_train)\n",
    "\n",
    "    # Step (iv): Obtain predictions on the validation set\n",
    "    X_valid = valid_df[['income', 'balance', 'student']]\n",
    "    y_valid_pred = model.predict(X_valid)\n",
    "\n",
    "    # Step (v): Compute the validation set error\n",
    "    validation_error = 1 - accuracy_score(valid_df['default'], y_valid_pred)\n",
    "\n",
    "    # Display the validation set error for each iteration\n",
    "    print(f\"Validation Set Error (Repeat {repeat + 1}): {validation_error:.4f}\")"
   ]
  }
 ],
 "metadata": {
  "kernelspec": {
   "display_name": "Python 3 (ipykernel)",
   "language": "python",
   "name": "python3"
  },
  "language_info": {
   "codemirror_mode": {
    "name": "ipython",
    "version": 3
   },
   "file_extension": ".py",
   "mimetype": "text/x-python",
   "name": "python",
   "nbconvert_exporter": "python",
   "pygments_lexer": "ipython3",
   "version": "3.11.5"
  }
 },
 "nbformat": 4,
 "nbformat_minor": 5
}
