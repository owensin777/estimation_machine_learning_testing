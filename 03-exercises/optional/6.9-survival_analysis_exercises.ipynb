{
 "cells": [
  {
   "cell_type": "markdown",
   "id": "b80d5544-5f5b-449a-9d93-054050e469a7",
   "metadata": {},
   "source": [
    "# 6.9: Survival Analysis and Censored Data Exercises"
   ]
  },
  {
   "cell_type": "code",
   "execution_count": null,
   "id": "0f55590b-1931-4598-97de-6e05ae159cd9",
   "metadata": {},
   "outputs": [],
   "source": [
    "# Import libraries and objects\n",
    "from matplotlib.pyplot import subplots\n",
    "import numpy as np\n",
    "import pandas as pd\n",
    "from ISLP.models import ModelSpec as MS\n",
    "from ISLP import load_data\n",
    "from lifelines import \\\n",
    "     (KaplanMeierFitter,\n",
    "      CoxPHFitter)\n",
    "from lifelines.statistics import \\\n",
    "     (logrank_test,\n",
    "      multivariate_logrank_test)\n",
    "from ISLP.survival import sim_time\n",
    "\n",
    "import warnings\n",
    "# Suppress FutureWarning in ISLP.models.columns\n",
    "# The warning is related to Series.__getitem__ treating keys as positions, which is deprecated.\n",
    "# Since ISLP is an external library that I don't control, and this specific warning does not\n",
    "# affect my current usage, I'm suppressing it to keep the output clean and focused on relevant information.\n",
    "warnings.filterwarnings(action='ignore', category=FutureWarning, module='ISLP.models.columns')"
   ]
  },
  {
   "cell_type": "markdown",
   "id": "e71fd776-69f9-4dd6-9fdd-56ba382a7bfe",
   "metadata": {},
   "source": [
    "## The Kaplan-Meier Survival Curve"
   ]
  },
  {
   "cell_type": "code",
   "execution_count": null,
   "id": "e1aef0b2-6fb5-40c0-a856-0b0f35be6ab4",
   "metadata": {},
   "outputs": [],
   "source": [
    "# Load data and columns\n",
    "BrainCancer = load_data('BrainCancer')\n",
    "BrainCancer.columns"
   ]
  },
  {
   "cell_type": "code",
   "execution_count": null,
   "id": "dbd90c34-533c-4284-abc8-19ae8bb23360",
   "metadata": {},
   "outputs": [],
   "source": [
    "# Check how the status variable has been coded\n",
    "BrainCancer['status'].value_counts()"
   ]
  },
  {
   "cell_type": "markdown",
   "id": "dd58baf6-b9ef-4ac6-b1b8-1362b27e25da",
   "metadata": {},
   "source": [
    "We see there are 53 patients with status = 0 so this means status = 0 means the survival time is censored\n",
    "and status = 1 means the survival time is uncensored.\n",
    "We can create the Kaplan-Meier survival curve using the `km.fit(`) function within the survival library."
   ]
  },
  {
   "cell_type": "code",
   "execution_count": null,
   "id": "5eb2443f-9747-45e4-9f33-4304c93a8e4c",
   "metadata": {},
   "outputs": [],
   "source": [
    "fig, ax = subplots(figsize=(8,8))\n",
    "km = KaplanMeierFitter()\n",
    "km_brain = km.fit(BrainCancer['time'], BrainCancer['status'])\n",
    "km_brain.plot(label='Kaplan Meier estimate', ax=ax)"
   ]
  },
  {
   "cell_type": "markdown",
   "id": "8afd6e1e-b13f-4d02-8981-26337f38b8c4",
   "metadata": {},
   "source": [
    "### The Log-Rank Test\n",
    "Now we want to create Kaplan-Meier survival curves from the BrainCancer data that are separated by sex. We do this using the `groupby()` method of a dataframe. "
   ]
  },
  {
   "cell_type": "code",
   "execution_count": null,
   "id": "35af94fb-29af-474b-b496-081e31217136",
   "metadata": {},
   "outputs": [],
   "source": [
    "fig, ax = subplots(figsize=(8,8))\n",
    "by_sex = {}\n",
    "for sex, df in BrainCancer.groupby('sex'):\n",
    "    by_sex[sex] = df\n",
    "    km_sex = km.fit(df['time'], df['status'])\n",
    "    km_sex.plot(label='Sex=%s' % sex, ax=ax)"
   ]
  },
  {
   "cell_type": "markdown",
   "id": "b2667c1b-e814-45b5-8154-6691b1ef0bf9",
   "metadata": {},
   "source": [
    "We can use a log-rank test to compare the survival curves for males versus females. We use the `logrank_test()` function from the `lifelines.statistics module`. "
   ]
  },
  {
   "cell_type": "code",
   "execution_count": null,
   "id": "6e3cd23b-a568-4131-a852-5409124a4b11",
   "metadata": {},
   "outputs": [],
   "source": [
    "logrank_test(by_sex['Male']['time'],\n",
    "             by_sex['Female']['time'],\n",
    "             by_sex['Male']['status'],\n",
    "             by_sex['Female']['status'])"
   ]
  },
  {
   "cell_type": "markdown",
   "id": "c4846890-7e84-4b62-a27b-0a784e6d083e",
   "metadata": {},
   "source": [
    "The resulting p-value is 0.23 which is greater than 0.05, so there is no evidence of a difference in the survival\n",
    "between the two sexes."
   ]
  },
  {
   "cell_type": "markdown",
   "id": "56d76a0c-48fd-4637-9c78-92958085f6ef",
   "metadata": {},
   "source": [
    "### The Cox Proportional Hazards Model\n",
    "We have seen the restults from the log-rank test that compares the survival curves for males versus females form the BrainCancer data. Now we can fit a Cox proportional hazards model to test the exact samme thing, using the `CoxPHFitter()`. To begin, we consider a model that uses sex as the only predictor."
   ]
  },
  {
   "cell_type": "code",
   "execution_count": null,
   "id": "435c3247-4047-40c3-a25a-c7613479bafb",
   "metadata": {},
   "outputs": [],
   "source": [
    "coxph = CoxPHFitter # shorthand\n",
    "sex_df = BrainCancer[['time', 'status', 'sex']]\n",
    "model_df = MS(['time', 'status', 'sex'],\n",
    "              intercept=False).fit_transform(sex_df)\n",
    "cox_fit = coxph().fit(model_df,\n",
    "                      'time',\n",
    "                      'status')\n",
    "cox_fit.summary[['coef', 'se(coef)', 'p']]"
   ]
  },
  {
   "cell_type": "markdown",
   "id": "e3668b52-7ffc-43a6-8efd-217dc6478d52",
   "metadata": {},
   "source": [
    "The p-value for the hypothesis test $H_0: \\beta = 0$ is 0.233 which is not significant so we conclude that there is no difference in the survival rates between males and females. This is the same conclusion we found for the log-rank test."
   ]
  },
  {
   "cell_type": "markdown",
   "id": "5db7a39d-1e3a-4679-84c3-ed838dfd3ef7",
   "metadata": {},
   "source": [
    "Now let's try to fit a model with multiple predictors. Note that the covariates included are either quanititative or qualitative with a binary response with the exception of `diagnosis`. The `diagnosis` variable has four classes: `Meningioma`, `LG glioma`, `HG glioma`, and `Other`. "
   ]
  },
  {
   "cell_type": "code",
   "execution_count": null,
   "id": "becd5f58-fc97-4593-a26f-de985a31e4cc",
   "metadata": {},
   "outputs": [],
   "source": [
    "cleaned = BrainCancer.dropna()\n",
    "all_MS = MS(cleaned.columns, intercept=False)\n",
    "all_df = all_MS.fit_transform(cleaned)\n",
    "fit_all = coxph().fit(all_df,\n",
    "                      'time',\n",
    "                      'status')\n",
    "fit_all.summary[['coef', 'se(coef)', 'p']]"
   ]
  },
  {
   "cell_type": "markdown",
   "id": "d2936c9d-26ab-46a3-a370-71d459678dbf",
   "metadata": {},
   "source": [
    "Since `Meningioma` was coded as the baseline, the fitted coefficient 2.15 associated with `HG glioma` means that the risk associated with `HG glioma` is $e^{2.15} = 8.62$ times more that the risk of `Meningioma`.\n",
    "\n",
    "We can plot the survival curves for each diagnosis category while adusting for the other predictors. To make these plots we make a new data set where the value for each of the other predictors is the mean (if quantitative) or mode (if qualitative) of the variable. "
   ]
  },
  {
   "cell_type": "code",
   "execution_count": null,
   "id": "8d1ed71b-f3f5-4801-9092-50d1960f519d",
   "metadata": {},
   "outputs": [],
   "source": [
    "# Plot estimated survival curves for each diagnosis category\n",
    "levels = cleaned['diagnosis'].unique()\n",
    "def representative(series):\n",
    "    if hasattr(series.dtype, 'categories'):\n",
    "        return pd.Series.mode(series)\n",
    "    else:\n",
    "        return series.mean()\n",
    "modal_data = cleaned.apply(representative, axis=0)\n",
    "\n",
    "modal_df = pd.DataFrame(\n",
    "              [modal_data.iloc[0] for _ in range(len(levels))])\n",
    "modal_df['diagnosis'] = levels\n",
    "modal_df\n",
    "\n",
    "modal_X = all_MS.transform(modal_df)\n",
    "modal_X.index = levels\n",
    "modal_X\n",
    "\n",
    "# Use the predict_survival_function() method to obtain the estimated survival function.\n",
    "predicted_survival = fit_all.predict_survival_function(modal_X)\n",
    "predicted_survival"
   ]
  },
  {
   "cell_type": "code",
   "execution_count": null,
   "id": "b40f461c-f6b7-4c9e-a4c2-f9ced5beb8e8",
   "metadata": {},
   "outputs": [],
   "source": [
    "fig, ax = subplots(figsize=(8, 8))\n",
    "predicted_survival.plot(ax=ax);"
   ]
  },
  {
   "cell_type": "markdown",
   "id": "c9b2ca33-1b6d-44b8-9454-27bce5ae92d9",
   "metadata": {},
   "source": [
    "*These exercises were adapted from :* James, Gareth, et al. An Introduction to Statistical Learning: with Applications in Python, Springer, 2023."
   ]
  }
 ],
 "metadata": {
  "kernelspec": {
   "display_name": "Python 3 (ipykernel)",
   "language": "python",
   "name": "python3"
  },
  "language_info": {
   "codemirror_mode": {
    "name": "ipython",
    "version": 3
   },
   "file_extension": ".py",
   "mimetype": "text/x-python",
   "name": "python",
   "nbconvert_exporter": "python",
   "pygments_lexer": "ipython3",
   "version": "3.11.6"
  }
 },
 "nbformat": 4,
 "nbformat_minor": 5
}
