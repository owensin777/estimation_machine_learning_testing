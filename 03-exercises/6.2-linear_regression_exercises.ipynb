{
 "cells": [
  {
   "cell_type": "markdown",
   "id": "dd7c50c1-ffb3-40f1-aed2-fb18b05aaa1c",
   "metadata": {},
   "source": [
    "# 6.2: Linear Regression Exercises"
   ]
  },
  {
   "cell_type": "markdown",
   "id": "63cf6041-c737-4f73-950a-4d43daa13adb",
   "metadata": {},
   "source": [
    "### Getting Started\n",
    "#### Import Libraries \n",
    "We import our standard libraries and specific objects/libraries at the top level of our notebook. By adding only specific objects from key modules, such as `statmodels`, we keep our *namespace* more organized. "
   ]
  },
  {
   "cell_type": "code",
   "execution_count": 6,
   "id": "e4a6ede7-9f6e-4053-aa35-b7927ea3964f",
   "metadata": {},
   "outputs": [],
   "source": [
    "# Import libraries and objects\n",
    "import numpy as np\n",
    "import pandas as pd\n",
    "from matplotlib.pyplot import subplots\n",
    "import statsmodels.api as sm\n",
    "import matplotlib.pyplot as plt\n",
    "import warnings # for muting warning messages\n",
    "# mute warning messages\n",
    "warnings.filterwarnings('ignore')\n",
    "from sklearn.linear_model import LinearRegression\n",
    "from ISLP import load_data\n",
    "from ISLP.models import (ModelSpec as MS,\n",
    "                         summarize,\n",
    "                         poly)"
   ]
  },
  {
   "cell_type": "markdown",
   "id": "afdd9bd1-62b5-4b83-9e22-2ef1f9800083",
   "metadata": {},
   "source": [
    "Let's take a look at the `Boston` data set"
   ]
  },
  {
   "cell_type": "code",
   "execution_count": 7,
   "id": "79406cd6-14de-4318-b711-cbe6e0c5c8bd",
   "metadata": {},
   "outputs": [
    {
     "data": {
      "text/html": [
       "<div>\n",
       "<style scoped>\n",
       "    .dataframe tbody tr th:only-of-type {\n",
       "        vertical-align: middle;\n",
       "    }\n",
       "\n",
       "    .dataframe tbody tr th {\n",
       "        vertical-align: top;\n",
       "    }\n",
       "\n",
       "    .dataframe thead th {\n",
       "        text-align: right;\n",
       "    }\n",
       "</style>\n",
       "<table border=\"1\" class=\"dataframe\">\n",
       "  <thead>\n",
       "    <tr style=\"text-align: right;\">\n",
       "      <th></th>\n",
       "      <th>crim</th>\n",
       "      <th>zn</th>\n",
       "      <th>indus</th>\n",
       "      <th>chas</th>\n",
       "      <th>nox</th>\n",
       "      <th>rm</th>\n",
       "      <th>age</th>\n",
       "      <th>dis</th>\n",
       "      <th>rad</th>\n",
       "      <th>tax</th>\n",
       "      <th>ptratio</th>\n",
       "      <th>lstat</th>\n",
       "      <th>medv</th>\n",
       "    </tr>\n",
       "  </thead>\n",
       "  <tbody>\n",
       "    <tr>\n",
       "      <th>0</th>\n",
       "      <td>0.00632</td>\n",
       "      <td>18.0</td>\n",
       "      <td>2.31</td>\n",
       "      <td>0</td>\n",
       "      <td>0.538</td>\n",
       "      <td>6.575</td>\n",
       "      <td>65.2</td>\n",
       "      <td>4.0900</td>\n",
       "      <td>1</td>\n",
       "      <td>296</td>\n",
       "      <td>15.3</td>\n",
       "      <td>4.98</td>\n",
       "      <td>24.0</td>\n",
       "    </tr>\n",
       "    <tr>\n",
       "      <th>1</th>\n",
       "      <td>0.02731</td>\n",
       "      <td>0.0</td>\n",
       "      <td>7.07</td>\n",
       "      <td>0</td>\n",
       "      <td>0.469</td>\n",
       "      <td>6.421</td>\n",
       "      <td>78.9</td>\n",
       "      <td>4.9671</td>\n",
       "      <td>2</td>\n",
       "      <td>242</td>\n",
       "      <td>17.8</td>\n",
       "      <td>9.14</td>\n",
       "      <td>21.6</td>\n",
       "    </tr>\n",
       "    <tr>\n",
       "      <th>2</th>\n",
       "      <td>0.02729</td>\n",
       "      <td>0.0</td>\n",
       "      <td>7.07</td>\n",
       "      <td>0</td>\n",
       "      <td>0.469</td>\n",
       "      <td>7.185</td>\n",
       "      <td>61.1</td>\n",
       "      <td>4.9671</td>\n",
       "      <td>2</td>\n",
       "      <td>242</td>\n",
       "      <td>17.8</td>\n",
       "      <td>4.03</td>\n",
       "      <td>34.7</td>\n",
       "    </tr>\n",
       "    <tr>\n",
       "      <th>3</th>\n",
       "      <td>0.03237</td>\n",
       "      <td>0.0</td>\n",
       "      <td>2.18</td>\n",
       "      <td>0</td>\n",
       "      <td>0.458</td>\n",
       "      <td>6.998</td>\n",
       "      <td>45.8</td>\n",
       "      <td>6.0622</td>\n",
       "      <td>3</td>\n",
       "      <td>222</td>\n",
       "      <td>18.7</td>\n",
       "      <td>2.94</td>\n",
       "      <td>33.4</td>\n",
       "    </tr>\n",
       "    <tr>\n",
       "      <th>4</th>\n",
       "      <td>0.06905</td>\n",
       "      <td>0.0</td>\n",
       "      <td>2.18</td>\n",
       "      <td>0</td>\n",
       "      <td>0.458</td>\n",
       "      <td>7.147</td>\n",
       "      <td>54.2</td>\n",
       "      <td>6.0622</td>\n",
       "      <td>3</td>\n",
       "      <td>222</td>\n",
       "      <td>18.7</td>\n",
       "      <td>5.33</td>\n",
       "      <td>36.2</td>\n",
       "    </tr>\n",
       "    <tr>\n",
       "      <th>...</th>\n",
       "      <td>...</td>\n",
       "      <td>...</td>\n",
       "      <td>...</td>\n",
       "      <td>...</td>\n",
       "      <td>...</td>\n",
       "      <td>...</td>\n",
       "      <td>...</td>\n",
       "      <td>...</td>\n",
       "      <td>...</td>\n",
       "      <td>...</td>\n",
       "      <td>...</td>\n",
       "      <td>...</td>\n",
       "      <td>...</td>\n",
       "    </tr>\n",
       "    <tr>\n",
       "      <th>501</th>\n",
       "      <td>0.06263</td>\n",
       "      <td>0.0</td>\n",
       "      <td>11.93</td>\n",
       "      <td>0</td>\n",
       "      <td>0.573</td>\n",
       "      <td>6.593</td>\n",
       "      <td>69.1</td>\n",
       "      <td>2.4786</td>\n",
       "      <td>1</td>\n",
       "      <td>273</td>\n",
       "      <td>21.0</td>\n",
       "      <td>9.67</td>\n",
       "      <td>22.4</td>\n",
       "    </tr>\n",
       "    <tr>\n",
       "      <th>502</th>\n",
       "      <td>0.04527</td>\n",
       "      <td>0.0</td>\n",
       "      <td>11.93</td>\n",
       "      <td>0</td>\n",
       "      <td>0.573</td>\n",
       "      <td>6.120</td>\n",
       "      <td>76.7</td>\n",
       "      <td>2.2875</td>\n",
       "      <td>1</td>\n",
       "      <td>273</td>\n",
       "      <td>21.0</td>\n",
       "      <td>9.08</td>\n",
       "      <td>20.6</td>\n",
       "    </tr>\n",
       "    <tr>\n",
       "      <th>503</th>\n",
       "      <td>0.06076</td>\n",
       "      <td>0.0</td>\n",
       "      <td>11.93</td>\n",
       "      <td>0</td>\n",
       "      <td>0.573</td>\n",
       "      <td>6.976</td>\n",
       "      <td>91.0</td>\n",
       "      <td>2.1675</td>\n",
       "      <td>1</td>\n",
       "      <td>273</td>\n",
       "      <td>21.0</td>\n",
       "      <td>5.64</td>\n",
       "      <td>23.9</td>\n",
       "    </tr>\n",
       "    <tr>\n",
       "      <th>504</th>\n",
       "      <td>0.10959</td>\n",
       "      <td>0.0</td>\n",
       "      <td>11.93</td>\n",
       "      <td>0</td>\n",
       "      <td>0.573</td>\n",
       "      <td>6.794</td>\n",
       "      <td>89.3</td>\n",
       "      <td>2.3889</td>\n",
       "      <td>1</td>\n",
       "      <td>273</td>\n",
       "      <td>21.0</td>\n",
       "      <td>6.48</td>\n",
       "      <td>22.0</td>\n",
       "    </tr>\n",
       "    <tr>\n",
       "      <th>505</th>\n",
       "      <td>0.04741</td>\n",
       "      <td>0.0</td>\n",
       "      <td>11.93</td>\n",
       "      <td>0</td>\n",
       "      <td>0.573</td>\n",
       "      <td>6.030</td>\n",
       "      <td>80.8</td>\n",
       "      <td>2.5050</td>\n",
       "      <td>1</td>\n",
       "      <td>273</td>\n",
       "      <td>21.0</td>\n",
       "      <td>7.88</td>\n",
       "      <td>11.9</td>\n",
       "    </tr>\n",
       "  </tbody>\n",
       "</table>\n",
       "<p>506 rows × 13 columns</p>\n",
       "</div>"
      ],
      "text/plain": [
       "        crim    zn  indus  chas    nox     rm   age     dis  rad  tax  \\\n",
       "0    0.00632  18.0   2.31     0  0.538  6.575  65.2  4.0900    1  296   \n",
       "1    0.02731   0.0   7.07     0  0.469  6.421  78.9  4.9671    2  242   \n",
       "2    0.02729   0.0   7.07     0  0.469  7.185  61.1  4.9671    2  242   \n",
       "3    0.03237   0.0   2.18     0  0.458  6.998  45.8  6.0622    3  222   \n",
       "4    0.06905   0.0   2.18     0  0.458  7.147  54.2  6.0622    3  222   \n",
       "..       ...   ...    ...   ...    ...    ...   ...     ...  ...  ...   \n",
       "501  0.06263   0.0  11.93     0  0.573  6.593  69.1  2.4786    1  273   \n",
       "502  0.04527   0.0  11.93     0  0.573  6.120  76.7  2.2875    1  273   \n",
       "503  0.06076   0.0  11.93     0  0.573  6.976  91.0  2.1675    1  273   \n",
       "504  0.10959   0.0  11.93     0  0.573  6.794  89.3  2.3889    1  273   \n",
       "505  0.04741   0.0  11.93     0  0.573  6.030  80.8  2.5050    1  273   \n",
       "\n",
       "     ptratio  lstat  medv  \n",
       "0       15.3   4.98  24.0  \n",
       "1       17.8   9.14  21.6  \n",
       "2       17.8   4.03  34.7  \n",
       "3       18.7   2.94  33.4  \n",
       "4       18.7   5.33  36.2  \n",
       "..       ...    ...   ...  \n",
       "501     21.0   9.67  22.4  \n",
       "502     21.0   9.08  20.6  \n",
       "503     21.0   5.64  23.9  \n",
       "504     21.0   6.48  22.0  \n",
       "505     21.0   7.88  11.9  \n",
       "\n",
       "[506 rows x 13 columns]"
      ]
     },
     "execution_count": 7,
     "metadata": {},
     "output_type": "execute_result"
    }
   ],
   "source": [
    "# Load the \"Boston\" dataset using the \"load_data\" function from the ISLP package\n",
    "Boston = load_data('Boston')\n",
    "Boston"
   ]
  },
  {
   "cell_type": "code",
   "execution_count": 5,
   "id": "919048a3",
   "metadata": {},
   "outputs": [
    {
     "ename": "NameError",
     "evalue": "name 'Boston' is not defined",
     "output_type": "error",
     "traceback": [
      "\u001b[1;31m---------------------------------------------------------------------------\u001b[0m",
      "\u001b[1;31mNameError\u001b[0m                                 Traceback (most recent call last)",
      "Cell \u001b[1;32mIn[5], line 1\u001b[0m\n\u001b[1;32m----> 1\u001b[0m Boston_copy \u001b[38;5;241m=\u001b[39m \u001b[43mBoston\u001b[49m\u001b[38;5;241m.\u001b[39mcopy()\n\u001b[0;32m      2\u001b[0m Boston_copy\n",
      "\u001b[1;31mNameError\u001b[0m: name 'Boston' is not defined"
     ]
    }
   ],
   "source": [
    "Boston_copy = Boston.copy()\n",
    "Boston_copy"
   ]
  },
  {
   "cell_type": "markdown",
   "id": "6508f966-1f84-4d29-b91d-c3713a857bab",
   "metadata": {},
   "source": [
    "Hint: Type `Boston?` to find out more about the dataset."
   ]
  },
  {
   "cell_type": "markdown",
   "id": "67889cb8-cd67-4fe1-8f21-1ceaf4f4f3fe",
   "metadata": {},
   "source": [
    "## Simple Linear Regression\n",
    "\n",
    "In this section we will construct model matrices (also called design matrices) using the `ModelSpec()` transform from `ISLP.models`. \n",
    "\n",
    "We will use the `Boston` housing data set, which is part of the `ISLP` package. We will build a regression model to predict `medv` using 13 predictors such as `rmvar` (average number of rooms per house), `age` (proportion of owner-occupied units built prior to 1940), and `lstat` (percent of households with low socioeconomic status). We will use the `statsmodels` package, which allows us to implement several commonly used regression methods."
   ]
  },
  {
   "cell_type": "markdown",
   "id": "b37d54ee-4416-46d5-b361-99da9fa6612a",
   "metadata": {},
   "source": [
    "To start, we use the `sm.OLS()` function to fit a simple linear regression model. Our response will be `medv` (Y) and `rm` (X) will be the single predictor. For this model, we can create the model matrix by hand."
   ]
  },
  {
   "cell_type": "code",
   "execution_count": 9,
   "id": "73e72302-4ca5-4017-8813-69acb3de6035",
   "metadata": {},
   "outputs": [
    {
     "data": {
      "text/html": [
       "<div>\n",
       "<style scoped>\n",
       "    .dataframe tbody tr th:only-of-type {\n",
       "        vertical-align: middle;\n",
       "    }\n",
       "\n",
       "    .dataframe tbody tr th {\n",
       "        vertical-align: top;\n",
       "    }\n",
       "\n",
       "    .dataframe thead th {\n",
       "        text-align: right;\n",
       "    }\n",
       "</style>\n",
       "<table border=\"1\" class=\"dataframe\">\n",
       "  <thead>\n",
       "    <tr style=\"text-align: right;\">\n",
       "      <th></th>\n",
       "      <th>intercept</th>\n",
       "      <th>rm</th>\n",
       "    </tr>\n",
       "  </thead>\n",
       "  <tbody>\n",
       "    <tr>\n",
       "      <th>0</th>\n",
       "      <td>1.0</td>\n",
       "      <td>6.575</td>\n",
       "    </tr>\n",
       "    <tr>\n",
       "      <th>1</th>\n",
       "      <td>1.0</td>\n",
       "      <td>6.421</td>\n",
       "    </tr>\n",
       "    <tr>\n",
       "      <th>2</th>\n",
       "      <td>1.0</td>\n",
       "      <td>7.185</td>\n",
       "    </tr>\n",
       "    <tr>\n",
       "      <th>3</th>\n",
       "      <td>1.0</td>\n",
       "      <td>6.998</td>\n",
       "    </tr>\n",
       "  </tbody>\n",
       "</table>\n",
       "</div>"
      ],
      "text/plain": [
       "   intercept     rm\n",
       "0        1.0  6.575\n",
       "1        1.0  6.421\n",
       "2        1.0  7.185\n",
       "3        1.0  6.998"
      ]
     },
     "execution_count": 9,
     "metadata": {},
     "output_type": "execute_result"
    },
    {
     "ename": "",
     "evalue": "",
     "output_type": "error",
     "traceback": [
      "\u001b[1;31mThe Kernel crashed while executing code in the current cell or a previous cell. \n",
      "\u001b[1;31mPlease review the code in the cell(s) to identify a possible cause of the failure. \n",
      "\u001b[1;31mClick <a href='https://aka.ms/vscodeJupyterKernelCrash'>here</a> for more info. \n",
      "\u001b[1;31mView Jupyter <a href='command:jupyter.viewOutput'>log</a> for further details."
     ]
    }
   ],
   "source": [
    "# Create the model matrix by hand\n",
    "X = pd.DataFrame({'intercept': np.ones(Boston.shape[0]),\n",
    "                  'rm': Boston['rm']})\n",
    "X[:4]"
   ]
  },
  {
   "cell_type": "markdown",
   "id": "39515e24-986c-4a76-b403-8f25fe1c3a7b",
   "metadata": {},
   "source": [
    "We then extract the response and fit the model."
   ]
  },
  {
   "cell_type": "code",
   "execution_count": 5,
   "id": "b6367fab-d909-46d0-9730-6239d97840c3",
   "metadata": {},
   "outputs": [],
   "source": [
    "# Extract the response and fit the model\n",
    "y = Boston['medv']\n",
    "model = sm.OLS(y, X) # to specify the model\n",
    "results = model.fit() # to fit the model"
   ]
  },
  {
   "cell_type": "markdown",
   "id": "67e581a4-b9f2-4e59-946d-dbc057e9d05c",
   "metadata": {},
   "source": [
    "**Note**: `sm.OLS()` does not fit the model; it specifies the model. `model.fit()` does the actual fitting.\n",
    "\n",
    "The `ISLP` function `summarize()` produces a simple table of the parameter estimates, their standard errors, t-statistics and p-values. The function takes a single argument, such as the object `results` returned here by the `fit` method, and returns such a summary."
   ]
  },
  {
   "cell_type": "code",
   "execution_count": 6,
   "id": "dc9f10a8",
   "metadata": {},
   "outputs": [
    {
     "data": {
      "text/html": [
       "<div>\n",
       "<style scoped>\n",
       "    .dataframe tbody tr th:only-of-type {\n",
       "        vertical-align: middle;\n",
       "    }\n",
       "\n",
       "    .dataframe tbody tr th {\n",
       "        vertical-align: top;\n",
       "    }\n",
       "\n",
       "    .dataframe thead th {\n",
       "        text-align: right;\n",
       "    }\n",
       "</style>\n",
       "<table border=\"1\" class=\"dataframe\">\n",
       "  <thead>\n",
       "    <tr style=\"text-align: right;\">\n",
       "      <th></th>\n",
       "      <th>coef</th>\n",
       "      <th>std err</th>\n",
       "      <th>t</th>\n",
       "      <th>P&gt;|t|</th>\n",
       "    </tr>\n",
       "  </thead>\n",
       "  <tbody>\n",
       "    <tr>\n",
       "      <th>intercept</th>\n",
       "      <td>-34.6706</td>\n",
       "      <td>2.650</td>\n",
       "      <td>-13.084</td>\n",
       "      <td>0.0</td>\n",
       "    </tr>\n",
       "    <tr>\n",
       "      <th>rm</th>\n",
       "      <td>9.1021</td>\n",
       "      <td>0.419</td>\n",
       "      <td>21.722</td>\n",
       "      <td>0.0</td>\n",
       "    </tr>\n",
       "  </tbody>\n",
       "</table>\n",
       "</div>"
      ],
      "text/plain": [
       "              coef  std err       t  P>|t|\n",
       "intercept -34.6706    2.650 -13.084    0.0\n",
       "rm          9.1021    0.419  21.722    0.0"
      ]
     },
     "execution_count": 6,
     "metadata": {},
     "output_type": "execute_result"
    }
   ],
   "source": [
    "# Summarize results\n",
    "summarize(results)"
   ]
  },
  {
   "cell_type": "markdown",
   "id": "9e5ec5b5-5aa1-4fa9-99d0-98e4d145add3",
   "metadata": {},
   "source": [
    "The output tells us that ˆβ0 = −34.6706 and ˆβ1 = 9.1021"
   ]
  },
  {
   "cell_type": "code",
   "execution_count": 8,
   "id": "3c0b78bb-411d-4a86-a7da-917b77405f2e",
   "metadata": {},
   "outputs": [
    {
     "data": {
      "text/html": [
       "<table class=\"simpletable\">\n",
       "<caption>OLS Regression Results</caption>\n",
       "<tr>\n",
       "  <th>Dep. Variable:</th>          <td>medv</td>       <th>  R-squared:         </th> <td>   0.484</td>\n",
       "</tr>\n",
       "<tr>\n",
       "  <th>Model:</th>                   <td>OLS</td>       <th>  Adj. R-squared:    </th> <td>   0.483</td>\n",
       "</tr>\n",
       "<tr>\n",
       "  <th>Method:</th>             <td>Least Squares</td>  <th>  F-statistic:       </th> <td>   471.8</td>\n",
       "</tr>\n",
       "<tr>\n",
       "  <th>Date:</th>             <td>Thu, 14 Mar 2024</td> <th>  Prob (F-statistic):</th> <td>2.49e-74</td>\n",
       "</tr>\n",
       "<tr>\n",
       "  <th>Time:</th>                 <td>19:13:56</td>     <th>  Log-Likelihood:    </th> <td> -1673.1</td>\n",
       "</tr>\n",
       "<tr>\n",
       "  <th>No. Observations:</th>      <td>   506</td>      <th>  AIC:               </th> <td>   3350.</td>\n",
       "</tr>\n",
       "<tr>\n",
       "  <th>Df Residuals:</th>          <td>   504</td>      <th>  BIC:               </th> <td>   3359.</td>\n",
       "</tr>\n",
       "<tr>\n",
       "  <th>Df Model:</th>              <td>     1</td>      <th>                     </th>     <td> </td>   \n",
       "</tr>\n",
       "<tr>\n",
       "  <th>Covariance Type:</th>      <td>nonrobust</td>    <th>                     </th>     <td> </td>   \n",
       "</tr>\n",
       "</table>\n",
       "<table class=\"simpletable\">\n",
       "<tr>\n",
       "      <td></td>         <th>coef</th>     <th>std err</th>      <th>t</th>      <th>P>|t|</th>  <th>[0.025</th>    <th>0.975]</th>  \n",
       "</tr>\n",
       "<tr>\n",
       "  <th>intercept</th> <td>  -34.6706</td> <td>    2.650</td> <td>  -13.084</td> <td> 0.000</td> <td>  -39.877</td> <td>  -29.465</td>\n",
       "</tr>\n",
       "<tr>\n",
       "  <th>rm</th>        <td>    9.1021</td> <td>    0.419</td> <td>   21.722</td> <td> 0.000</td> <td>    8.279</td> <td>    9.925</td>\n",
       "</tr>\n",
       "</table>\n",
       "<table class=\"simpletable\">\n",
       "<tr>\n",
       "  <th>Omnibus:</th>       <td>102.585</td> <th>  Durbin-Watson:     </th> <td>   0.684</td> \n",
       "</tr>\n",
       "<tr>\n",
       "  <th>Prob(Omnibus):</th> <td> 0.000</td>  <th>  Jarque-Bera (JB):  </th> <td> 612.449</td> \n",
       "</tr>\n",
       "<tr>\n",
       "  <th>Skew:</th>          <td> 0.726</td>  <th>  Prob(JB):          </th> <td>1.02e-133</td>\n",
       "</tr>\n",
       "<tr>\n",
       "  <th>Kurtosis:</th>      <td> 8.190</td>  <th>  Cond. No.          </th> <td>    58.4</td> \n",
       "</tr>\n",
       "</table><br/><br/>Notes:<br/>[1] Standard Errors assume that the covariance matrix of the errors is correctly specified."
      ],
      "text/latex": [
       "\\begin{center}\n",
       "\\begin{tabular}{lclc}\n",
       "\\toprule\n",
       "\\textbf{Dep. Variable:}    &       medv       & \\textbf{  R-squared:         } &     0.484   \\\\\n",
       "\\textbf{Model:}            &       OLS        & \\textbf{  Adj. R-squared:    } &     0.483   \\\\\n",
       "\\textbf{Method:}           &  Least Squares   & \\textbf{  F-statistic:       } &     471.8   \\\\\n",
       "\\textbf{Date:}             & Thu, 14 Mar 2024 & \\textbf{  Prob (F-statistic):} &  2.49e-74   \\\\\n",
       "\\textbf{Time:}             &     19:13:56     & \\textbf{  Log-Likelihood:    } &   -1673.1   \\\\\n",
       "\\textbf{No. Observations:} &         506      & \\textbf{  AIC:               } &     3350.   \\\\\n",
       "\\textbf{Df Residuals:}     &         504      & \\textbf{  BIC:               } &     3359.   \\\\\n",
       "\\textbf{Df Model:}         &           1      & \\textbf{                     } &             \\\\\n",
       "\\textbf{Covariance Type:}  &    nonrobust     & \\textbf{                     } &             \\\\\n",
       "\\bottomrule\n",
       "\\end{tabular}\n",
       "\\begin{tabular}{lcccccc}\n",
       "                   & \\textbf{coef} & \\textbf{std err} & \\textbf{t} & \\textbf{P$> |$t$|$} & \\textbf{[0.025} & \\textbf{0.975]}  \\\\\n",
       "\\midrule\n",
       "\\textbf{intercept} &     -34.6706  &        2.650     &   -13.084  &         0.000        &      -39.877    &      -29.465     \\\\\n",
       "\\textbf{rm}        &       9.1021  &        0.419     &    21.722  &         0.000        &        8.279    &        9.925     \\\\\n",
       "\\bottomrule\n",
       "\\end{tabular}\n",
       "\\begin{tabular}{lclc}\n",
       "\\textbf{Omnibus:}       & 102.585 & \\textbf{  Durbin-Watson:     } &     0.684  \\\\\n",
       "\\textbf{Prob(Omnibus):} &   0.000 & \\textbf{  Jarque-Bera (JB):  } &   612.449  \\\\\n",
       "\\textbf{Skew:}          &   0.726 & \\textbf{  Prob(JB):          } & 1.02e-133  \\\\\n",
       "\\textbf{Kurtosis:}      &   8.190 & \\textbf{  Cond. No.          } &      58.4  \\\\\n",
       "\\bottomrule\n",
       "\\end{tabular}\n",
       "%\\caption{OLS Regression Results}\n",
       "\\end{center}\n",
       "\n",
       "Notes: \\newline\n",
       " [1] Standard Errors assume that the covariance matrix of the errors is correctly specified."
      ],
      "text/plain": [
       "<class 'statsmodels.iolib.summary.Summary'>\n",
       "\"\"\"\n",
       "                            OLS Regression Results                            \n",
       "==============================================================================\n",
       "Dep. Variable:                   medv   R-squared:                       0.484\n",
       "Model:                            OLS   Adj. R-squared:                  0.483\n",
       "Method:                 Least Squares   F-statistic:                     471.8\n",
       "Date:                Thu, 14 Mar 2024   Prob (F-statistic):           2.49e-74\n",
       "Time:                        19:13:56   Log-Likelihood:                -1673.1\n",
       "No. Observations:                 506   AIC:                             3350.\n",
       "Df Residuals:                     504   BIC:                             3359.\n",
       "Df Model:                           1                                         \n",
       "Covariance Type:            nonrobust                                         \n",
       "==============================================================================\n",
       "                 coef    std err          t      P>|t|      [0.025      0.975]\n",
       "------------------------------------------------------------------------------\n",
       "intercept    -34.6706      2.650    -13.084      0.000     -39.877     -29.465\n",
       "rm             9.1021      0.419     21.722      0.000       8.279       9.925\n",
       "==============================================================================\n",
       "Omnibus:                      102.585   Durbin-Watson:                   0.684\n",
       "Prob(Omnibus):                  0.000   Jarque-Bera (JB):              612.449\n",
       "Skew:                           0.726   Prob(JB):                    1.02e-133\n",
       "Kurtosis:                       8.190   Cond. No.                         58.4\n",
       "==============================================================================\n",
       "\n",
       "Notes:\n",
       "[1] Standard Errors assume that the covariance matrix of the errors is correctly specified.\n",
       "\"\"\""
      ]
     },
     "execution_count": 8,
     "metadata": {},
     "output_type": "execute_result"
    }
   ],
   "source": [
    "results.summary()"
   ]
  },
  {
   "cell_type": "markdown",
   "id": "d1507eef-dc02-4c1c-853b-fa0c0dd9323c",
   "metadata": {},
   "source": [
    "The fitted coefficients can also be retrieved as the params attribute of results."
   ]
  },
  {
   "cell_type": "code",
   "execution_count": null,
   "id": "1fe415fa-70b6-4b6a-8487-2c7b0031d920",
   "metadata": {},
   "outputs": [],
   "source": [
    "coefficients = results.params\n",
    "print(coefficients)"
   ]
  },
  {
   "cell_type": "markdown",
   "id": "fd030bc3-27e3-44e3-8cd4-73d4e098a00d",
   "metadata": {},
   "source": [
    "To compute the 95% confidence intervals for the regression coefficient estimates based on the standard errors:"
   ]
  },
  {
   "cell_type": "code",
   "execution_count": null,
   "id": "d669c318-3289-4aed-9a6d-155c30aacaa7",
   "metadata": {},
   "outputs": [],
   "source": [
    "# Get confidence intervals for coefficients\n",
    "conf_intervals = results.conf_int()\n",
    "\n",
    "# Print the confidence intervals\n",
    "print(\"Confidence Intervals for Coefficients:\")\n",
    "print(conf_intervals)"
   ]
  },
  {
   "cell_type": "markdown",
   "id": "91c46f11-e605-4c92-abfd-aa09f2cac23f",
   "metadata": {},
   "source": [
    "We can also find the RSE and $R^2$ statistic in the summary of the linear regression model."
   ]
  },
  {
   "cell_type": "code",
   "execution_count": null,
   "id": "a581edce-ad34-4040-ad21-bd1021832c0d",
   "metadata": {},
   "outputs": [],
   "source": [
    "print(results.summary())"
   ]
  },
  {
   "cell_type": "markdown",
   "id": "d9c4036d-5810-4692-bc58-626ea7f7c08f",
   "metadata": {},
   "source": [
    "From the $R^2$ statistic we can see that some of the variation in `medv` is explained by `rm` but a lot of it is not. This might be an indication that there are other variables in the data set that are affecting the response."
   ]
  },
  {
   "cell_type": "code",
   "execution_count": 8,
   "id": "6d363338-6e3c-4824-89b0-219f507506eb",
   "metadata": {},
   "outputs": [
    {
     "data": {
      "image/png": "[encoded data removed]",
      "text/plain": [
       "<Figure size 640x480 with 1 Axes>"
      ]
     },
     "metadata": {},
     "output_type": "display_data"
    }
   ],
   "source": [
    "# Extracting 'medv' and 'rm' columns from the dataset\n",
    "medv = Boston['medv']\n",
    "rm = Boston['rm']\n",
    "\n",
    "# Reshape 'rm' to a 2D array for LinearRegression\n",
    "rm_reshaped = rm.values.reshape(-1, 1)\n",
    "\n",
    "# Fit a linear regression model\n",
    "lm_medv_rm = LinearRegression()\n",
    "lm_medv_rm.fit(rm_reshaped, medv)\n",
    "\n",
    "# Plot 'medv' against 'rm'\n",
    "plt.scatter(rm, medv, label='Data')\n",
    "plt.xlabel('rm')\n",
    "plt.ylabel('medv')\n",
    "\n",
    "# Plot the regression line\n",
    "plt.plot(rm, lm_medv_rm.predict(rm_reshaped), color='red', linewidth=2, label='Regression Line')\n",
    "\n",
    "plt.legend()\n",
    "plt.show()"
   ]
  },
  {
   "cell_type": "markdown",
   "id": "956cec7e-13fa-46d8-b2e6-30f9b4d9892b",
   "metadata": {},
   "source": [
    "### Multiple Linear Regression\n",
    "\n",
    "To fit a multiple linear regression model using least squares, we again use the `ModelSpec()` transform to construct the required model matrix and response. The arguments to `ModelSpec()` can be quite general, but in this case a list of column names is fine. We consider a fit here with the two variables `rm` and `nox`."
   ]
  },
  {
   "cell_type": "code",
   "execution_count": null,
   "id": "ac5d05be-2862-49c7-a70d-a73feacd919e",
   "metadata": {},
   "outputs": [],
   "source": [
    "X = MS(['rm', 'nox']).fit_transform(Boston)\n",
    "model1 = sm.OLS(y, X)\n",
    "results1 = model1.fit()\n",
    "summarize(results1)"
   ]
  },
  {
   "cell_type": "markdown",
   "id": "16cd9729-16a7-4f87-a9eb-950cd59db298",
   "metadata": {},
   "source": [
    "Notice how we have compacted the first line into a succinct expression describing the construction of `X`.\n",
    "\n",
    "The `Boston` data set contains 12 variables, and so it would be cumbersome to have to type all of these in order to perform a regression using all of the predictors. Instead, we can use the following short-hand:"
   ]
  },
  {
   "cell_type": "code",
   "execution_count": null,
   "id": "fa09b615-4430-4a10-8a67-fcc2bd64d866",
   "metadata": {},
   "outputs": [],
   "source": [
    "terms = Boston.columns.drop('medv')\n",
    "terms"
   ]
  },
  {
   "cell_type": "markdown",
   "id": "826022a2-15da-4353-9b0f-42d7db79ecad",
   "metadata": {},
   "source": [
    "We can now fit the model with all the variables in `terms` using the same model matrix builder."
   ]
  },
  {
   "cell_type": "code",
   "execution_count": null,
   "id": "683522e3-85a5-48e4-a279-5681c9cd444e",
   "metadata": {},
   "outputs": [],
   "source": [
    "X = MS(terms).fit_transform(Boston)\n",
    "model = sm.OLS(y, X)\n",
    "results = model.fit()\n",
    "summarize(results)"
   ]
  },
  {
   "cell_type": "markdown",
   "id": "192691a3-bc1c-4208-8ed9-252704ba0fcb",
   "metadata": {},
   "source": [
    "What if we would like to perform a regression using all of the variables but one? For example, in the above regression output, `age` has a high $p$`-value`. So we may wish to run a regression excluding this predictor. The following syntax results in a regression using all predictors except `age`."
   ]
  },
  {
   "cell_type": "code",
   "execution_count": null,
   "id": "0658a85e-b5d2-4b54-a2af-b69019a6176a",
   "metadata": {},
   "outputs": [],
   "source": [
    "minus_age = Boston.columns.drop(['medv', 'age']) \n",
    "Xma = MS(minus_age).fit_transform(Boston)\n",
    "model1 = sm.OLS(y, Xma)\n",
    "summarize(model1.fit())"
   ]
  },
  {
   "cell_type": "markdown",
   "id": "e9f40afd-d823-428b-8a61-957023560684",
   "metadata": {},
   "source": [
    "### Qualitative Predictors\n",
    "\n",
    "Here we use the `Boston` data again. \n",
    "\n",
    "We can examine the relationship between `medv` and `chas`, where\n",
    "\\begin{align*}\n",
    "\\text{chas} = \\left\\{\\begin{array}{ll}\n",
    "1 & \\text { if } \\text{tract bounds Charles River} \\\\\n",
    "0 & \\text { if } \\text{not}\n",
    "\\end{array}\\right. \n",
    "\\end{align*}"
   ]
  },
  {
   "cell_type": "code",
   "execution_count": null,
   "id": "8a6e12a4-d254-4984-b19b-23ad3691676d",
   "metadata": {},
   "outputs": [],
   "source": [
    "# Perform regression\n",
    "model = sm.OLS.from_formula('medv ~ chas', data=Boston)\n",
    "result = model.fit()\n",
    "\n",
    "# Print the summary of the regression\n",
    "print(result.summary())"
   ]
  },
  {
   "cell_type": "markdown",
   "id": "c629a7b9-2577-47ea-96bb-e96b11783189",
   "metadata": {},
   "source": [
    "$\\hat \\beta_0 = 22.094$: the average median house value for suburbs that are not bound by the Charles river.\n",
    "\n",
    "$\\hat \\beta_1 = 6.346$: the difference in the average median house value for suburbs that are bound by the Charles River versus those that are not."
   ]
  },
  {
   "cell_type": "markdown",
   "id": "3efd4b11-081a-493e-8cba-8f81a747da82",
   "metadata": {},
   "source": [
    "### Interaction Term\n",
    "\n",
    "Let's look at the relationship between the response `medv` and the predictors `lstat` (the percent of households with low socioeconomic status) and `age` (the percent of homes built prior to 1940). We can also include the interaction term between `lstat` and `age`.\n",
    "\n",
    "The syntax used to implement this is `lm(y ~ x1 + x2 + x1:x2, data)` or `lm(y ~ x1 * x2, data)` for shorthand."
   ]
  },
  {
   "cell_type": "code",
   "execution_count": 10,
   "id": "7f916189-f92a-497a-aaad-3dc99b92db0c",
   "metadata": {},
   "outputs": [
    {
     "name": "stdout",
     "output_type": "stream",
     "text": [
      "                            OLS Regression Results                            \n",
      "==============================================================================\n",
      "Dep. Variable:                   medv   R-squared:                       0.556\n",
      "Model:                            OLS   Adj. R-squared:                  0.553\n",
      "Method:                 Least Squares   F-statistic:                     209.3\n",
      "Date:                Thu, 14 Mar 2024   Prob (F-statistic):           4.86e-88\n",
      "Time:                        20:36:33   Log-Likelihood:                -1635.0\n",
      "No. Observations:                 506   AIC:                             3278.\n",
      "Df Residuals:                     502   BIC:                             3295.\n",
      "Df Model:                           3                                         \n",
      "Covariance Type:            nonrobust                                         \n",
      "==============================================================================\n",
      "                 coef    std err          t      P>|t|      [0.025      0.975]\n",
      "------------------------------------------------------------------------------\n",
      "Intercept     36.0885      1.470     24.553      0.000      33.201      38.976\n",
      "lstat         -1.3921      0.167     -8.313      0.000      -1.721      -1.063\n",
      "age           -0.0007      0.020     -0.036      0.971      -0.040       0.038\n",
      "lstat:age      0.0042      0.002      2.244      0.025       0.001       0.008\n",
      "==============================================================================\n",
      "Omnibus:                      135.601   Durbin-Watson:                   0.965\n",
      "Prob(Omnibus):                  0.000   Jarque-Bera (JB):              296.955\n",
      "Skew:                           1.417   Prob(JB):                     3.29e-65\n",
      "Kurtosis:                       5.461   Cond. No.                     6.88e+03\n",
      "==============================================================================\n",
      "\n",
      "Notes:\n",
      "[1] Standard Errors assume that the covariance matrix of the errors is correctly specified.\n",
      "[2] The condition number is large, 6.88e+03. This might indicate that there are\n",
      "strong multicollinearity or other numerical problems.\n"
     ]
    }
   ],
   "source": [
    "model = sm.OLS.from_formula('medv ~ lstat * age', data=Boston)\n",
    "result = model.fit()\n",
    "\n",
    "# Print the summary of the regression\n",
    "print(result.summary())"
   ]
  },
  {
   "cell_type": "markdown",
   "id": "f82a3d81-e48b-4150-a3a6-4c99112ddbf5",
   "metadata": {},
   "source": [
    "The interaction term has a $p$-value of $0.025$. Even though the $p$-value for `age` is not significant, we will still include it in our model due to the hierarchical principal."
   ]
  },
  {
   "cell_type": "markdown",
   "id": "baa1b220-c35d-4b39-a3ee-729f634f22d6",
   "metadata": {},
   "source": [
    "### Helpful plots\n",
    "\n",
    "There are a few plots that we discussed that can help to identify problems with our data or with our fit."
   ]
  },
  {
   "cell_type": "code",
   "execution_count": null,
   "id": "fb7478a4-ca8d-4000-b64f-5773f9e3065e",
   "metadata": {},
   "outputs": [],
   "source": [
    "model = sm.OLS.from_formula('medv ~ rm', data=Boston)\n",
    "result = model.fit()\n",
    "\n",
    "# Plot the specified diagnostic plots\n",
    "fig, ax = plt.subplots(1, 2, figsize=(12, 5))\n",
    "\n",
    "# Residuals vs. Fitted Values Plot\n",
    "sm.graphics.plot_regress_exog(result, 'rm', fig=fig)\n",
    "\n",
    "# Studentized Residuals vs. Fitted Values Plot\n",
    "ax[1].scatter(result.fittedvalues, result.get_influence().resid_studentized_internal, alpha=0.8)\n",
    "ax[1].set_xlabel('Fitted Values')\n",
    "ax[1].set_ylabel('Studentized Residuals')\n",
    "\n",
    "plt.show()"
   ]
  },
  {
   "cell_type": "code",
   "execution_count": null,
   "id": "870e76cc-fe41-4e07-87eb-784a9fbcd8c1",
   "metadata": {},
   "outputs": [],
   "source": [
    "# Fit a linear regression model\n",
    "model = sm.OLS.from_formula('medv ~ rm', data=Boston)\n",
    "result = model.fit()\n",
    "\n",
    "# Get the predicted values and studentized residuals\n",
    "predicted_values = result.predict()\n",
    "studentized_residuals = result.get_influence().resid_studentized_internal\n",
    "\n",
    "# Plot the Studentized Residuals vs. Fitted Values\n",
    "plt.scatter(predicted_values, studentized_residuals, alpha=0.8)\n",
    "plt.xlabel('Fitted Values')\n",
    "plt.ylabel('Studentized Residuals')\n",
    "plt.title('Studentized Residuals vs. Fitted Values')\n",
    "plt.show()"
   ]
  },
  {
   "cell_type": "markdown",
   "id": "9d6fa813-dca6-4e5a-a110-a34f6d8ccfc8",
   "metadata": {},
   "source": [
    "***What information about our fitted model can you gather from these plots? Are there any outliers or high leverage points?***\n",
    "\n",
    "***Fit a linear regression model on the `Boston` data set including all the predictors. The shorthand for this is `lm(medv ~ .)`. Interpret the summary including the hypothesis tests for the coefficients and the RSE and $R^2 values. Make plots of the fit including confidence intervals for the fitted line. Recreate and interpret the three plots we have just made using your new fit.***\n",
    "\n",
    "Ask for help if you get stuck!\n"
   ]
  },
  {
   "cell_type": "markdown",
   "id": "7bc2a43a-24bd-44bd-b141-a82cb76e1a3f",
   "metadata": {},
   "source": [
    "*These exercises were adapted from :* James, Gareth, et al. An Introduction to Statistical Learning: with Applications in Python, Springer, 2023."
   ]
  }
 ],
 "metadata": {
  "kernelspec": {
   "display_name": "Python 3.10.4",
   "language": "python",
   "name": "python3"
  },
  "language_info": {
   "codemirror_mode": {
    "name": "ipython",
    "version": 3
   },
   "file_extension": ".py",
   "mimetype": "text/x-python",
   "name": "python",
   "nbconvert_exporter": "python",
   "pygments_lexer": "ipython3",
   "version": "3.11.5"
  },
  "vscode": {
   "interpreter": {
    "hash": "497a84dc8fec8cf8d24e7e87b6d954c9a18a327edc66feb9b9ea7e9e72cc5c7e"
   }
  }
 },
 "nbformat": 4,
 "nbformat_minor": 5
}
